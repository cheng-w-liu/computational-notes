{
 "cells": [
  {
   "cell_type": "markdown",
   "metadata": {
    "id": "LSt4Y3_bGKq8"
   },
   "source": [
    "### Reference: https://www.youtube.com/watch?v=n9_XyCGr-MI&t=5023s"
   ]
  },
  {
   "cell_type": "code",
   "execution_count": 1,
   "metadata": {
    "id": "oJU7Y_HbefrF"
   },
   "outputs": [],
   "source": [
    "# run this in order to access gcs bucket\n",
    "from google.colab import auth\n",
    "auth.authenticate_user()"
   ]
  },
  {
   "cell_type": "code",
   "execution_count": 2,
   "metadata": {
    "id": "Ll8rCATrgwci"
   },
   "outputs": [],
   "source": [
    "from google.cloud import storage"
   ]
  },
  {
   "cell_type": "code",
   "execution_count": 40,
   "metadata": {
    "id": "Npp5flK6YPgo"
   },
   "outputs": [],
   "source": [
    "from collections import Counter, defaultdict\n",
    "from datetime import datetime\n",
    "import io\n",
    "import os\n",
    "import numpy as np\n",
    "import pandas as pd\n",
    "from PIL import Image"
   ]
  },
  {
   "cell_type": "code",
   "execution_count": 4,
   "metadata": {
    "id": "JIsuiD1zaXcT"
   },
   "outputs": [],
   "source": [
    "import matplotlib.pyplot as plt\n",
    "import matplotlib\n",
    "matplotlib.style.use('ggplot')"
   ]
  },
  {
   "cell_type": "code",
   "execution_count": 5,
   "metadata": {
    "id": "3Ln2MDlkDAey"
   },
   "outputs": [],
   "source": [
    "import torch\n",
    "import torch.nn as nn\n",
    "import torch.optim as optim\n",
    "import torchvision.transforms as transforms\n",
    "import torchvision.transforms.functional as FT\n",
    "from tqdm import tqdm"
   ]
  },
  {
   "cell_type": "code",
   "execution_count": 6,
   "metadata": {
    "colab": {
     "base_uri": "https://localhost:8080/",
     "height": 35
    },
    "id": "aXucGMo8DKLN",
    "outputId": "cae53e8c-6cc4-420a-d7bd-62fd65cd5746"
   },
   "outputs": [
    {
     "data": {
      "application/vnd.google.colaboratory.intrinsic+json": {
       "type": "string"
      },
      "text/plain": [
       "'2.5.1+cu121'"
      ]
     },
     "execution_count": 6,
     "metadata": {},
     "output_type": "execute_result"
    }
   ],
   "source": [
    "torch.__version__"
   ]
  },
  {
   "cell_type": "code",
   "execution_count": 7,
   "metadata": {
    "colab": {
     "base_uri": "https://localhost:8080/"
    },
    "id": "jHeOppjXDLwJ",
    "outputId": "bd8745dc-717e-4c0c-fd04-03252c31bca3"
   },
   "outputs": [
    {
     "data": {
      "text/plain": [
       "device(type='cuda')"
      ]
     },
     "execution_count": 7,
     "metadata": {},
     "output_type": "execute_result"
    }
   ],
   "source": [
    "torch.cuda.is_available()\n",
    "device = torch.device(\"cuda\" if torch.cuda.is_available() else \"cpu\")\n",
    "device"
   ]
  },
  {
   "cell_type": "code",
   "execution_count": 8,
   "metadata": {
    "id": "R6CNLYQbGJcS"
   },
   "outputs": [],
   "source": [
    "architecture_config = [\n",
    "    # Tuple: (kernel_size, num_filters, stride, padding)\n",
    "    (7, 64, 2, 3),\n",
    "    \"M\",\n",
    "    (3, 192, 1, 1),\n",
    "    \"M\",\n",
    "    (1, 128, 1, 0),\n",
    "    (3, 256, 1, 1),\n",
    "    (1, 256, 1, 0),\n",
    "    (3, 512, 1, 1),\n",
    "    \"M\",\n",
    "    # List: tuples, last interger represents number of repeats\n",
    "    [(1, 256, 1, 0), (3, 512, 1, 1), 4],\n",
    "    (1, 512, 1, 0),\n",
    "    (3, 1024, 1, 1),\n",
    "    \"M\",\n",
    "    [(1, 512, 1, 0), (3, 1024, 1, 1), 2],\n",
    "    (3, 1024, 1, 1),\n",
    "    (3, 1024, 2, 1),\n",
    "    (3, 1024, 1, 1),\n",
    "    (3, 1024, 1, 1),\n",
    "]\n"
   ]
  },
  {
   "cell_type": "markdown",
   "metadata": {
    "id": "oerTm_hEEEN_"
   },
   "source": [
    "### Models"
   ]
  },
  {
   "cell_type": "code",
   "execution_count": 9,
   "metadata": {
    "id": "W_oF_AhCDNFJ"
   },
   "outputs": [],
   "source": [
    "class CNNBlock(nn.Module):\n",
    "    def __init__(self, in_channels, out_channels, **kwargs):\n",
    "        super(CNNBlock, self).__init__()\n",
    "        self.conv = nn.Conv2d(in_channels, out_channels, bias=False, **kwargs)\n",
    "        self.batchnorm = nn.BatchNorm2d(out_channels)\n",
    "        self.leakyrelu = nn.LeakyReLU(0.1)\n",
    "\n",
    "    def forward(self, x):\n",
    "        return self.leakyrelu(self.batchnorm(self.conv(x)))"
   ]
  },
  {
   "cell_type": "code",
   "execution_count": 10,
   "metadata": {
    "colab": {
     "base_uri": "https://localhost:8080/"
    },
    "id": "0QzCwxDkEFnT",
    "outputId": "177986b7-d009-4a6a-9be3-bf3d083e9b9a"
   },
   "outputs": [
    {
     "name": "stdout",
     "output_type": "stream",
     "text": [
      "torch.Size([5, 32, 26, 26])\n"
     ]
    }
   ],
   "source": [
    "# test CNNBlock\n",
    "test_cnn_block = CNNBlock(in_channels=3, out_channels=32, kernel_size=3).to(device)\n",
    "B, C, H, W = 5, 3, 28, 28\n",
    "x = torch.randn((B, C, H, W)).to(device)\n",
    "y = test_cnn_block(x)\n",
    "print(y.shape)"
   ]
  },
  {
   "cell_type": "code",
   "execution_count": 11,
   "metadata": {
    "id": "V2UP6_20E0dl"
   },
   "outputs": [],
   "source": [
    "class Yolov1(nn.Module):\n",
    "    def __init__(self, in_channels=3, **kwargs):\n",
    "        super(Yolov1, self).__init__()\n",
    "        self.architecture = architecture_config\n",
    "        self.in_channels = in_channels\n",
    "        self.darknet = self._create_conv_layers(self.architecture)\n",
    "        self.fcs = self._create_fcs(**kwargs)\n",
    "\n",
    "    def forward(self, x):\n",
    "        x = self.darknet(x)\n",
    "        return self.fcs(torch.flatten(x, start_dim=1))\n",
    "\n",
    "    def _create_conv_layers(self, architecture):\n",
    "        layers = []\n",
    "        in_channels = self.in_channels\n",
    "\n",
    "        for x in architecture:\n",
    "            if type(x) == tuple: # Tuple: (kernel_size, num_filters, stride, padding)\n",
    "                layers.append(\n",
    "                    CNNBlock(in_channels, x[1], kernel_size=x[0], stride=x[2], padding=x[3])\n",
    "                )\n",
    "                in_channels = x[1]\n",
    "\n",
    "            elif type(x) == str: # String: \"M\"\n",
    "                layers.append(nn.MaxPool2d(kernel_size=2, stride=2))\n",
    "\n",
    "            elif type(x) == list: # List: tuples, last interger represents number of repeats\n",
    "                conv1 = x[0]  # Tuple: (kernel_size, num_filters, stride, padding)\n",
    "                conv2 = x[1]\n",
    "                num_repeats = x[2]\n",
    "                for _ in range(num_repeats):\n",
    "                    layers.append(CNNBlock(in_channels, conv1[1], kernel_size=conv1[0], stride=conv1[2], padding=conv1[3]))\n",
    "                    layers.append(CNNBlock(conv1[1], conv2[1], kernel_size=conv2[0], stride=conv2[2], padding=conv2[3]))\n",
    "                    in_channels = conv2[1]\n",
    "\n",
    "        return nn.Sequential(*layers)\n",
    "\n",
    "    def _create_fcs(self, split_size, num_boxes, num_classes):\n",
    "        S, B, C = split_size, num_boxes, num_classes\n",
    "        return nn.Sequential(\n",
    "            nn.Flatten(),\n",
    "            nn.Linear(1024 * S * S, 496),\n",
    "            nn.Dropout(0.0),\n",
    "            nn.LeakyReLU(0.1),\n",
    "            nn.Linear(496, S * S * (C + B * 5)) # later to be reshaped to (S, S, 30), where C + B * 5 = 20 + 2 * 5 = 30\n",
    "        )\n"
   ]
  },
  {
   "cell_type": "code",
   "execution_count": 12,
   "metadata": {
    "colab": {
     "base_uri": "https://localhost:8080/"
    },
    "id": "fpiMTJOZbi2p",
    "outputId": "5390fb66-5a28-42b9-b341-f9993800afab"
   },
   "outputs": [
    {
     "name": "stdout",
     "output_type": "stream",
     "text": [
      "torch.Size([5, 3, 448, 448])\n",
      "torch.Size([5, 1470])\n"
     ]
    }
   ],
   "source": [
    "# test Yolov1\n",
    "batch_size = 5\n",
    "in_channels = 3\n",
    "width = 448\n",
    "height = 448\n",
    "x = torch.randn((batch_size, in_channels, width, height)).to(device)\n",
    "print(x.shape)\n",
    "\n",
    "yolo = Yolov1(in_channels=in_channels, split_size=7, num_boxes=2, num_classes=20).to(device)\n",
    "pred = yolo(x)\n",
    "print(pred.shape)"
   ]
  },
  {
   "cell_type": "code",
   "execution_count": 13,
   "metadata": {
    "id": "AZQyDzvjqZx6"
   },
   "outputs": [],
   "source": [
    "S = 7\n",
    "B = 2\n",
    "C = 20\n",
    "predictions = pred.reshape(-1, S, S, C + B * 5)"
   ]
  },
  {
   "cell_type": "markdown",
   "metadata": {
    "id": "_SXV1Ir2F2HB"
   },
   "source": [
    "### Utility functions"
   ]
  },
  {
   "cell_type": "code",
   "execution_count": 14,
   "metadata": {
    "id": "iVWZlI0IF1x5"
   },
   "outputs": [],
   "source": [
    "def intersection_over_union(boxes_preds, boxes_labels, box_format=\"midpoint\"):\n",
    "    \"\"\"\n",
    "    parameters\n",
    "        boxes_preds: (batch_size, 4)\n",
    "        boxes_labels: (batch_size, 4)\n",
    "        box_format: \"midpoint\" (x,y,w,h) or \"corners\" (x1,y1,x2,y2)\n",
    "    \"\"\"\n",
    "    if box_format == \"midpoint\":\n",
    "        box1_x1 = boxes_preds[..., 0:1] - boxes_preds[..., 2:3] / 2\n",
    "        box1_y1 = boxes_preds[..., 1:2] - boxes_preds[..., 3:4] / 2\n",
    "        box1_x2 = boxes_preds[..., 0:1] + boxes_preds[..., 2:3] / 2\n",
    "        box1_y2 = boxes_preds[..., 1:2] + boxes_preds[..., 3:4] / 2\n",
    "\n",
    "        box2_x1 = boxes_labels[..., 0:1] - boxes_labels[..., 2:3] / 2\n",
    "        box2_y1 = boxes_labels[..., 1:2] - boxes_labels[..., 3:4] / 2\n",
    "        box2_x2 = boxes_labels[..., 0:1] + boxes_labels[..., 2:3] / 2\n",
    "        box2_y2 = boxes_labels[..., 1:2] + boxes_labels[..., 3:4] / 2\n",
    "\n",
    "    elif box_format == \"corners\":\n",
    "        box1_x1 = boxes_preds[..., 0:1]\n",
    "        box1_y1 = boxes_preds[..., 1:2]\n",
    "        box1_x2 = boxes_preds[..., 2:3]\n",
    "        box1_y2 = boxes_preds[..., 3:4]\n",
    "\n",
    "        box2_x1 = boxes_labels[..., 0:1]\n",
    "        box2_y1 = boxes_labels[..., 1:2]\n",
    "        box2_x2 = boxes_labels[..., 2:3]\n",
    "        box2_y2 = boxes_labels[..., 3:4]\n",
    "    else:\n",
    "        raise ValueError(\"box_format must be 'midpoint' or 'corners'\")\n",
    "\n",
    "    x1 = torch.max(box1_x1, box2_x1)\n",
    "    y1 = torch.max(box1_y1, box2_y1)\n",
    "    x2 = torch.min(box1_x2, box2_x2)\n",
    "    y2 = torch.min(box1_y2, box2_y2)\n",
    "\n",
    "    # .clamp(0) to handle the case that there is not intersection\n",
    "    intersection = (x2 - x1).clamp(0) * (y2 - y1).clamp(0)\n",
    "\n",
    "    box1_area = abs((box1_x2 - box1_x1) * (box1_y2 - box1_y1))\n",
    "    box2_area = abs((box2_x2 - box2_x1) * (box2_y2 - box2_y1))\n",
    "\n",
    "    return intersection / (box1_area + box2_area - intersection + 1e-6)\n"
   ]
  },
  {
   "cell_type": "code",
   "execution_count": 15,
   "metadata": {
    "id": "3gmqFtlSb735"
   },
   "outputs": [],
   "source": [
    "def non_max_suppression(bboxes, iou_threshold, prob_threshold, box_format=\"corners\"):\n",
    "    \"\"\"\n",
    "    Parameters:\n",
    "        bboxes: list of lists containing all bounding boxes, [box1, box2, ...]\n",
    "          box_i = [class, class_prob, x1, y1, x2, y2]\n",
    "        iou_threshold:\n",
    "        prob_threshold:\n",
    "        box_format:\n",
    "\n",
    "    Returns:\n",
    "        list: bounding boxes after performing non-max suppression\n",
    "    \"\"\"\n",
    "    assert type(bboxes) == list\n",
    "\n",
    "    bboxes = [box for box in bboxes if box[1] > prob_threshold]\n",
    "    bboxes = sorted(bboxes, key=lambda x: x[1], reverse=True)\n",
    "    bboxes_after_nms = []\n",
    "\n",
    "    print(f'begin while loop')\n",
    "\n",
    "    while bboxes:\n",
    "        chosen_box = bboxes.pop(0)\n",
    "\n",
    "        # identify the boxes to keep in this iteration\n",
    "        bboxes = [\n",
    "            box\n",
    "            for box in bboxes\n",
    "            if box[0] != chosen_box[0]\n",
    "            or intersection_over_union(\n",
    "                torch.tensor(chosen_box[2:]), torch.tensor(box[2:]), box_format=box_format\n",
    "            ) < iou_threshold\n",
    "        ]\n",
    "\n",
    "        bboxes_after_nms.append(chosen_box)\n",
    "\n",
    "    print(f'end while loop')\n",
    "\n",
    "\n",
    "    return bboxes_after_nms"
   ]
  },
  {
   "cell_type": "code",
   "execution_count": 16,
   "metadata": {
    "colab": {
     "base_uri": "https://localhost:8080/"
    },
    "id": "z_BKLgrXrdAh",
    "outputId": "c4293162-df8b-410c-d28f-c6cf22101144"
   },
   "outputs": [
    {
     "name": "stdout",
     "output_type": "stream",
     "text": [
      "torch.Size([5, 7, 7, 1]) torch.Size([1, 5, 7, 7, 1])\n",
      "torch.Size([5, 7, 7, 1]) torch.Size([1, 5, 7, 7, 1])\n"
     ]
    },
    {
     "data": {
      "text/plain": [
       "torch.Size([2, 5, 7, 7, 1])"
      ]
     },
     "execution_count": 16,
     "metadata": {},
     "output_type": "execute_result"
    }
   ],
   "source": [
    "iou_b1 = intersection_over_union(\n",
    "    predictions[..., 21: 25],\n",
    "    predictions[..., 21: 25],\n",
    ")\n",
    "print(iou_b1.shape, iou_b1.unsqueeze(0).shape)\n",
    "\n",
    "iou_b2 = intersection_over_union(\n",
    "    predictions[..., 26: 30],\n",
    "    predictions[..., 21: 25],\n",
    ")\n",
    "print(iou_b2.shape, iou_b2.unsqueeze(0).shape)\n",
    "\n",
    "ious = torch.cat([iou_b1.unsqueeze(0), iou_b2.unsqueeze(0)], dim=0)\n",
    "ious.shape"
   ]
  },
  {
   "cell_type": "code",
   "execution_count": 17,
   "metadata": {
    "id": "nuPkEGc9LiyN"
   },
   "outputs": [],
   "source": [
    "def mean_average_precision(pred_boxes, true_boxes, iou_threshold=0.5, box_format=\"corners\", num_classes=20):\n",
    "    \"\"\"\n",
    "    Parameters:\n",
    "        pred_boxes: [box1, box2, ...], box_i = [train_idx, class, class_prob, x1, y1, x2, y2]\n",
    "        true_boxes: [box1, box2, ...], same as pred_boxes\n",
    "        iou_threshold:\n",
    "        box_format:\n",
    "        num_classes:\n",
    "\n",
    "    Returns:\n",
    "        float: mAP value across all classes given a specific IoU threshold\n",
    "    \"\"\"\n",
    "\n",
    "    average_precisions = []\n",
    "    epsilon = 1e-6\n",
    "\n",
    "    for c in range(num_classes):\n",
    "        detections = []\n",
    "        ground_truths = []\n",
    "\n",
    "        for detection in pred_boxes:\n",
    "            if detection[1] == c:\n",
    "                detections.append(detection)\n",
    "\n",
    "        for true_box in true_boxes:\n",
    "            if true_box[1] == c:\n",
    "                ground_truths.append(true_box)\n",
    "\n",
    "        # count how many true bounding boxes each image has\n",
    "        # amount_bboxes = {'img0': 3, 'img1': 5}\n",
    "        amount_bboxes = Counter([gt[0] for gt in ground_truths])\n",
    "\n",
    "        # expand the counter to a tensor, for tracking if a true bounding box\n",
    "        #  has been processed or not\n",
    "        # amount_bboxes = {'img0': tensor([0,0,0]), 'img1': tensor([0,0,0,0,0])}\n",
    "        for key, val in amount_bboxes.items():\n",
    "            amount_bboxes[key] = torch.zeros(val)\n",
    "\n",
    "        detections.sort(key=lambda x: x[2], reverse=True) # sort by prob. in descending order\n",
    "        TP = torch.zeros(len(detections))\n",
    "        FP = torch.zeros(len(detections))\n",
    "        total_true_bboxes = len(ground_truths)\n",
    "\n",
    "        if total_true_bboxes == 0:\n",
    "            continue\n",
    "\n",
    "        for detection_idx, detection in enumerate(detections):\n",
    "            ground_truth_img = [bbox for bbox in ground_truths if bbox[0] == detection[0]]\n",
    "\n",
    "            best_iou = 0\n",
    "            best_gt_idx = None\n",
    "            for idx, gt in enumerate(ground_truth_img):\n",
    "                iou = intersection_over_union(\n",
    "                    torch.tensor(detection[3:7]),\n",
    "                    torch.tensor(gt[3:7]),\n",
    "                    box_format=box_format,\n",
    "                )\n",
    "                if iou > best_iou:\n",
    "                    best_iou = iou\n",
    "                    best_gt_idx = idx\n",
    "\n",
    "            if best_iou > iou_threshold:\n",
    "                if amount_bboxes[detection[0]][best_gt_idx] == 0:\n",
    "                    TP[detection_idx] = 1\n",
    "                    amount_bboxes[detection[0]][best_gt_idx] = 1\n",
    "                else:\n",
    "                    FP[detection_idx] = 1\n",
    "            else:\n",
    "                FP[detection_idx] = 1\n",
    "\n",
    "        TP_cumsum = torch.cumsum(TP, dim=0)\n",
    "        FP_cumsum = torch.cumsum(FP, dim=0)\n",
    "        recalls = TP_cumsum / (total_true_bboxes + epsilon)\n",
    "        precisions = TP_cumsum / (TP_cumsum + FP_cumsum + epsilon)\n",
    "\n",
    "        # add a point (1, 0) to the precision-recall curve\n",
    "        #  precision is ont the y-axis, recall the x-axis\n",
    "        precisions = torch.cat((torch.tensor([1.]), precisions))\n",
    "        recalls = torch.cat((torch.tensor([0.]), recalls))\n",
    "\n",
    "        average_precisions.append(\n",
    "            torch.trapz(precisions, recalls).detach().item()\n",
    "        )\n",
    "\n",
    "    return sum(average_precisions) / len(average_precisions)"
   ]
  },
  {
   "cell_type": "markdown",
   "metadata": {
    "id": "jAAigjXnE3PU"
   },
   "source": [
    "### Loss function"
   ]
  },
  {
   "cell_type": "code",
   "execution_count": 20,
   "metadata": {
    "id": "l1czlilVg5lT"
   },
   "outputs": [],
   "source": [
    "class YoloLoss(nn.Module):\n",
    "    def __init__(self, S=7, B=2, C=20):\n",
    "        super(YoloLoss, self).__init__()\n",
    "        self.mse = nn.MSELoss(reduction=\"sum\")\n",
    "        self.S = S\n",
    "        self.B = B\n",
    "        self.C = C\n",
    "        self.lambda_coord = 5\n",
    "        self.lambda_noobj = 0.5\n",
    "\n",
    "    def forward(self, predictions, target):\n",
    "        predictions = predictions.reshape(-1, self.S, self.S, self.C + self.B * 5)\n",
    "\n",
    "        iou_b1 = intersection_over_union(\n",
    "            predictions[..., 21: 25],\n",
    "            target[..., 21: 25],\n",
    "        )\n",
    "\n",
    "        iou_b2 = intersection_over_union(\n",
    "            predictions[..., 26: 30],\n",
    "            target[..., 21: 25],\n",
    "        )\n",
    "\n",
    "        ious = torch.cat([iou_b1.unsqueeze(0), iou_b2.unsqueeze(0)], dim=0)\n",
    "        iou_maxes, best_box = torch.max(ious, dim=0)\n",
    "\n",
    "        exists_box = target[..., 20:21] # identity^{obj}_{ij}, if cell-i has an object or not\n",
    "        # exists_box ha shpae: (batch, S, S, 1)\n",
    "\n",
    "        # box coordinates loss\n",
    "        box_predictions = exists_box * (\n",
    "            (\n",
    "                (1 - best_box) * predictions[..., 21: 25]  # if the first box has higher IoU\n",
    "                + best_box * predictions[..., 26: 30]  # if the second box has higher IoU\n",
    "            )\n",
    "        ) # (batch_size, S, S, 4)\n",
    "\n",
    "        box_targets = exists_box * target[..., 21: 25] # (batch_size, S, S, 4)\n",
    "\n",
    "        box_predictions[..., 2:4] = torch.sign(box_predictions[..., 2:4]) * torch.sqrt(\n",
    "            torch.abs(box_predictions[..., 2:4] + 1e-6)\n",
    "        )\n",
    "\n",
    "        box_targets[..., 2:4] = torch.sqrt(box_targets[..., 2:4])\n",
    "\n",
    "        box_loss = self.mse(\n",
    "            torch.flatten(box_predictions, end_dim=-2), # (batch, S, S, N) -> (batch * S * S, 4)\n",
    "            torch.flatten(box_targets, end_dim=-2) # (batch, S, S, N) -> (batch * S * S, 4)\n",
    "        )\n",
    "\n",
    "\n",
    "        # object loss\n",
    "        pred_box = (\n",
    "            (1 - best_box) * predictions[..., 20:21] + best_box * predictions[..., 25:26]\n",
    "        )\n",
    "\n",
    "        object_loss = self.mse(\n",
    "            torch.flatten(exists_box * pred_box, start_dim=1), # (N, S, S, 1) -> (N, S*S)\n",
    "            torch.flatten(exists_box * target[..., 20:21], start_dim=1) # (N, S, S, 1) -> (N, S*S)\n",
    "        )\n",
    "\n",
    "        # no object loss\n",
    "        no_object_loss = self.mse(\n",
    "            torch.flatten((1 - exists_box) * predictions[..., 20:21], start_dim=1), # (N, S, S, 1) -> (N, S*S)\n",
    "            torch.flatten((1 - exists_box) * target[..., 20:21], start_dim=1) # (N, S, S, 1) -> (N, S*S)\n",
    "        )\n",
    "        no_object_loss += self.mse(\n",
    "            torch.flatten((1 - exists_box) * predictions[..., 25:26], start_dim=1), # (N, S, S, 1) -> (N, S*S)\n",
    "            torch.flatten((1 - exists_box) * target[..., 20:21], start_dim=1) # (N, S, S, 1) -> (N, S*S)\n",
    "        )\n",
    "\n",
    "        # class loss\n",
    "        class_loss = self.mse(\n",
    "            torch.flatten(exists_box * predictions[..., :20], end_dim=-2), # (batch, S, S, C) -> (batch * S * S, C)\n",
    "            torch.flatten(exists_box * target[..., :20], end_dim=-2) # (batch, S, S, C) -> (batch * S * S, C)\n",
    "        )\n",
    "\n",
    "        # sum up all components\n",
    "        loss = (\n",
    "            self.lambda_coord * box_loss\n",
    "            + object_loss\n",
    "            + self.lambda_noobj * no_object_loss\n",
    "            + class_loss\n",
    "        )\n",
    "\n",
    "        return loss\n"
   ]
  },
  {
   "cell_type": "code",
   "execution_count": 21,
   "metadata": {
    "colab": {
     "base_uri": "https://localhost:8080/"
    },
    "id": "QclO6yRtyEFG",
    "outputId": "41fcb850-0a99-429f-d4c9-e9e6d28f4d5a"
   },
   "outputs": [
    {
     "name": "stdout",
     "output_type": "stream",
     "text": [
      "torch.Size([5, 7, 7, 25]) torch.Size([245, 30])\n"
     ]
    }
   ],
   "source": [
    "def generate_random_target(batch_size=5*7*7, num_classes=20, num_boxes=2):\n",
    "    indices = torch.randint(0, num_classes, (batch_size,))\n",
    "    one_hot_classes = torch.nn.functional.one_hot(indices, num_classes=num_classes)\n",
    "    p = torch.ones((batch_size, 1))\n",
    "    box = torch.rand((batch_size, 4))\n",
    "    target = torch.cat([one_hot_classes, p, box], dim=-1)\n",
    "    return target\n",
    "\n",
    "def generate_random_predictions(batch_size=5*7*7, num_classes=20, num_boxes=2):\n",
    "    indices = torch.randint(0, num_classes, (batch_size,))\n",
    "    one_hot_classes = torch.nn.functional.one_hot(indices, num_classes=num_classes)\n",
    "    p1 = torch.randint(0, 2, (batch_size, 1))\n",
    "    box1 = torch.randn((batch_size, 4))\n",
    "    p2 = torch.randint(0, 2, (batch_size, 1))\n",
    "    box2 = torch.randn((batch_size, 4))\n",
    "    predictions = torch.cat([one_hot_classes, p1, box1, p2, box2], dim=-1)\n",
    "    return predictions\n",
    "\n",
    "S = 7\n",
    "batch_size = 5 * S * S\n",
    "num_classes = 20\n",
    "num_boxes = 2\n",
    "\n",
    "target = generate_random_target()\n",
    "target = target.reshape(-1, S, S, num_classes + 1 + 4)\n",
    "predictions = generate_random_predictions()\n",
    "print(target.shape, predictions.shape)"
   ]
  },
  {
   "cell_type": "code",
   "execution_count": 22,
   "metadata": {
    "colab": {
     "base_uri": "https://localhost:8080/"
    },
    "id": "0hc7oxi11r6v",
    "outputId": "25969c49-d527-4f68-af1e-f92eb98060fb"
   },
   "outputs": [
    {
     "name": "stdout",
     "output_type": "stream",
     "text": [
      "tensor(6601.0332)\n"
     ]
    }
   ],
   "source": [
    "yolo_loss_func = YoloLoss()\n",
    "loss = yolo_loss_func(predictions, target)\n",
    "print(loss)"
   ]
  },
  {
   "cell_type": "markdown",
   "metadata": {
    "id": "FIxzHb8KUYkS"
   },
   "source": [
    "### Data"
   ]
  },
  {
   "cell_type": "code",
   "execution_count": 23,
   "metadata": {
    "id": "IOg48gGf_t-I"
   },
   "outputs": [],
   "source": [
    "class PascalVOCDataset(torch.utils.data.Dataset):\n",
    "    def __init__(self, csv_path, bucket_name, dataset_name, S=7, B=2, C=20, transform=None):\n",
    "        if 'examples.csv' in csv_path:\n",
    "            self.annotations = pd.read_csv(csv_path, header=0)\n",
    "        else:\n",
    "            self.annotations = pd.read_csv(csv_path, header=None)\n",
    "        self.bucket_name = bucket_name\n",
    "        self.dataset_name = dataset_name\n",
    "        self.transform = transform\n",
    "        self.S = S\n",
    "        self.B = B\n",
    "        self.C = C\n",
    "\n",
    "        self.client = storage.Client()\n",
    "        self.bucket = self.client.get_bucket(bucket_name)\n",
    "\n",
    "    def __len__(self):\n",
    "        return len(self.annotations)\n",
    "\n",
    "    def __getitem__(self, index):\n",
    "        # get image\n",
    "        blob_name = f'{self.dataset_name}/images/{self.annotations.iloc[index, 0]}'\n",
    "        blob = self.bucket.blob(blob_name)\n",
    "        image_bytes = blob.download_as_bytes()\n",
    "        image = Image.open(io.BytesIO(image_bytes))\n",
    "\n",
    "        # get labels, i.e. class and bounding boxes\n",
    "        label_path = f'gs://{self.bucket_name}/{self.dataset_name}/labels/{self.annotations.iloc[index, 1]}'\n",
    "        label_df = pd.read_csv(label_path, header=None, sep=' ')\n",
    "\n",
    "        boxes = []\n",
    "        for _, line in label_df.iterrows():\n",
    "            class_label, x, y, w, h = line.values\n",
    "            class_label = int(class_label)\n",
    "            x, y, w, h = float(x), float(y), float(w), float(h)\n",
    "            box = [class_label, x, y, w, h]\n",
    "            boxes.append(box)\n",
    "        boxes = torch.tensor(boxes)\n",
    "\n",
    "        if self.transform:\n",
    "            image, boxes = self.transform(image, boxes)\n",
    "\n",
    "        label_matrix = torch.zeros((self.S, self.S, self.C + 5))\n",
    "        for box in boxes:\n",
    "            class_label, x, y, w, h = box.tolist()\n",
    "            class_label = int(class_label)\n",
    "            i, j = int(self.S * y), int(self.S * x)\n",
    "            x_cell, y_cell = self.S * x - j, self.S * y - i\n",
    "            w_cell, h_cell = w * self.S, h * self.S\n",
    "            if label_matrix[i, j, 20] == 0:\n",
    "                label_matrix[i, j, 20] = 1\n",
    "                box_coordinates = torch.tensor([x_cell, y_cell, w_cell, h_cell])\n",
    "                label_matrix[i, j, 21:25] = box_coordinates\n",
    "                label_matrix[i, j, class_label] = 1\n",
    "\n",
    "        return image, label_matrix"
   ]
  },
  {
   "cell_type": "code",
   "execution_count": 24,
   "metadata": {
    "id": "k64P1UJVO9yP"
   },
   "outputs": [],
   "source": [
    "class CustomCompose(object):\n",
    "    def __init__(self, transforms):\n",
    "        self.transforms = transforms\n",
    "\n",
    "    def __call__(self, img, bboxes):\n",
    "        for t in self.transforms:\n",
    "            img, bboxes = t(img), bboxes\n",
    "\n",
    "        return img, bboxes"
   ]
  },
  {
   "cell_type": "markdown",
   "metadata": {
    "id": "Gi8iueiQaUkf"
   },
   "source": [
    "### Trainning loop"
   ]
  },
  {
   "cell_type": "code",
   "execution_count": 27,
   "metadata": {
    "id": "oW0Zco8sfl6Q"
   },
   "outputs": [],
   "source": [
    "def save_checkpoint(state, filename=\"my_checkpoint.pth.tar\"):\n",
    "    print(f\"Saving checkpoint to {filename}\")\n",
    "    torch.save(state, filename)\n",
    "\n",
    "def load_checkpoint(checkpoint, model, optimizer):\n",
    "    print(f\"Loading checkpoint from {checkpoint}\")\n",
    "    model.load_state_dict(checkpoint[\"state_dict\"])\n",
    "    optimizer.load_state_dict(checkpoint[\"optimizer\"])"
   ]
  },
  {
   "cell_type": "code",
   "execution_count": 28,
   "metadata": {
    "id": "2tSH81zIxpDg"
   },
   "outputs": [],
   "source": [
    "seed = 1223\n",
    "torch.manual_seed(seed)\n",
    "torch.cuda.manual_seed(seed)\n",
    "torch.backends.cudnn.deterministic = True"
   ]
  },
  {
   "cell_type": "code",
   "execution_count": 44,
   "metadata": {
    "id": "t_9rZ_-C0eV6"
   },
   "outputs": [],
   "source": [
    "BUCKET_NAME = 'my-ml-dataset'\n",
    "DATASET_NAME = 'pascalvoc-yolo'\n",
    "\n",
    "LEARNING_RATE = 2e-5\n",
    "DEVICE = torch.device(\"cuda\" if torch.cuda.is_available() else \"cpu\")\n",
    "BATCH_SIZE = 16\n",
    "WEIGHT_DECAY = 0\n",
    "EPOCHS = 40\n",
    "NUM_WORKERS = 2\n",
    "PIN_MEMORY = True\n",
    "LOAD_MODEL = False\n",
    "LOAD_MODEL_FILE = \"yolov1_model.pt.tar\"\n"
   ]
  },
  {
   "cell_type": "code",
   "execution_count": 45,
   "metadata": {
    "id": "5sdzov9W1x_0"
   },
   "outputs": [],
   "source": [
    "def train_one_epoch(train_loader, model, optimizer, loss_func):\n",
    "    loop = tqdm(train_loader, leave=True)\n",
    "    losses = []\n",
    "    for batch_idx, (x, y) in enumerate(loop):\n",
    "        x, y = x.to(DEVICE), y.to(DEVICE)\n",
    "        out = model(x)\n",
    "        loss = loss_func(out, y)\n",
    "        losses.append(loss.item())\n",
    "        optimizer.zero_grad()\n",
    "        loss.backward()\n",
    "        optimizer.step()\n",
    "\n",
    "        loop.set_postfix(loss=loss.item())\n",
    "\n",
    "    print(f\"Meean loss: {sum(losses) / len(losses)}\")\n",
    "    return sum(losses) / len(losses)"
   ]
  },
  {
   "cell_type": "code",
   "execution_count": 46,
   "metadata": {
    "id": "8LOnt_4m2Q7r"
   },
   "outputs": [],
   "source": [
    "def main_func():\n",
    "    model = Yolov1(split_size=7, num_boxes=2, num_classes=20).to(DEVICE)\n",
    "    optimizer = optim.Adam(model.parameters(), lr=LEARNING_RATE, weight_decay=WEIGHT_DECAY)\n",
    "    loss_func = YoloLoss(S=7, B=2, C=20)\n",
    "\n",
    "    if LOAD_MODEL:\n",
    "        load_checkpoint(torch.load(LOAD_MODEL_FILE), model, optimizer)\n",
    "\n",
    "    transform = CustomCompose([transforms.Resize((448, 448)), transforms.ToTensor()])\n",
    "\n",
    "    train_csv_path = f'gs://{BUCKET_NAME}/{DATASET_NAME}/100examples.csv'\n",
    "    train_dataset = PascalVOCDataset(train_csv_path, BUCKET_NAME, DATASET_NAME, transform=transform)\n",
    "    train_loader = torch.utils.data.DataLoader(\n",
    "        train_dataset,\n",
    "        batch_size=BATCH_SIZE,\n",
    "        #num_workers=NUM_WORKERS,\n",
    "        #pin_memory=PIN_MEMORY,\n",
    "        shuffle=True,\n",
    "        drop_last=False\n",
    "    )\n",
    "\n",
    "    best_loss = float('inf')\n",
    "\n",
    "    history = defaultdict(list)\n",
    "\n",
    "    for epoch_idx in range(EPOCHS):\n",
    "\n",
    "        avg_loss = train_one_epoch(train_loader, model, optimizer, loss_func)\n",
    "        history['train_loss'].append(avg_loss)\n",
    "\n",
    "        if avg_loss < best_loss:\n",
    "            best_loss = avg_loss\n",
    "            checkpoint = {\n",
    "                \"state_dict\": model.state_dict(),\n",
    "                \"optimizer\": optimizer.state_dict(),\n",
    "            }\n",
    "            save_checkpoint(checkpoint, filename=LOAD_MODEL_FILE)\n",
    "        print(f'finish epoch {epoch_idx}, time: {datetime.now().strftime(\"%Y-%m-%d %H:%M:%S\") }')\n",
    "\n",
    "    return history\n"
   ]
  },
  {
   "cell_type": "code",
   "execution_count": null,
   "metadata": {},
   "outputs": [],
   "source": [
    "history = main_func()"
   ]
  },
  {
   "cell_type": "code",
   "execution_count": 48,
   "metadata": {
    "colab": {
     "base_uri": "https://localhost:8080/",
     "height": 460
    },
    "id": "8eJNyDuBLBvX",
    "outputId": "2164f81a-87b9-4382-a4d0-c1538cf48471"
   },
   "outputs": [
    {
     "data": {
      "text/plain": [
       "Text(0, 0.5, 'Loss')"
      ]
     },
     "execution_count": 48,
     "metadata": {},
     "output_type": "execute_result"
    },
    {
     "data": {
      "image/png": "[encoded data removed]",
      "text/plain": [
       "<Figure size 1500x600 with 1 Axes>"
      ]
     },
     "metadata": {},
     "output_type": "display_data"
    }
   ],
   "source": [
    "fontsize = 15\n",
    "fig, ax = plt.subplots(1, figsize=(15, 6))\n",
    "\n",
    "ax.plot(history['train_loss'], marker='.', ms=15, linestyle='--', color='b')\n",
    "\n",
    "ax.set_xticks(np.linspace(0, EPOCHS, EPOCHS+1))\n",
    "ax.set_xlabel('Epoch', fontsize=fontsize, labelpad=15)\n",
    "ax.set_ylabel('Loss', fontsize=fontsize, labelpad=15)\n"
   ]
  },
  {
   "cell_type": "code",
   "execution_count": null,
   "metadata": {
    "id": "Vhndpx-6oOEY"
   },
   "outputs": [],
   "source": []
  }
 ],
 "metadata": {
  "accelerator": "GPU",
  "colab": {
   "gpuType": "A100",
   "provenance": []
  },
  "kernelspec": {
   "display_name": "Python 3 (ipykernel)",
   "language": "python",
   "name": "python3"
  },
  "language_info": {
   "codemirror_mode": {
    "name": "ipython",
    "version": 3
   },
   "file_extension": ".py",
   "mimetype": "text/x-python",
   "name": "python",
   "nbconvert_exporter": "python",
   "pygments_lexer": "ipython3",
   "version": "3.11.9"
  }
 },
 "nbformat": 4,
 "nbformat_minor": 4
}
