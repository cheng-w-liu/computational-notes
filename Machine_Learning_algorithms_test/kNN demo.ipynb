{
 "cells": [
  {
   "cell_type": "code",
   "execution_count": 31,
   "id": "9b8de0d0",
   "metadata": {},
   "outputs": [],
   "source": [
    "from collections import Counter \n",
    "import numpy as np \n",
    "import scipy \n",
    "from sklearn import datasets\n",
    "from sklearn.preprocessing import StandardScaler \n",
    "from sklearn.model_selection import train_test_split "
   ]
  },
  {
   "cell_type": "code",
   "execution_count": 16,
   "id": "ff88a75a",
   "metadata": {},
   "outputs": [
    {
     "data": {
      "text/plain": [
       "((150, 4), (150,))"
      ]
     },
     "execution_count": 16,
     "metadata": {},
     "output_type": "execute_result"
    }
   ],
   "source": [
    "iris = datasets.load_iris()\n",
    "X = iris.data[:]\n",
    "y = iris.target[:]\n",
    "X.shape, y.shape "
   ]
  },
  {
   "cell_type": "code",
   "execution_count": 17,
   "id": "145f8614",
   "metadata": {},
   "outputs": [],
   "source": [
    "raw_X_train, raw_X_test, y_train, y_test = train_test_split(X, y, test_size=0.2)"
   ]
  },
  {
   "cell_type": "code",
   "execution_count": 19,
   "id": "2caab2ba",
   "metadata": {},
   "outputs": [],
   "source": [
    "scaler = StandardScaler()\n",
    "X_train = scaler.fit_transform(raw_X_train)\n",
    "X_test = scaler.transform(raw_X_test)"
   ]
  },
  {
   "cell_type": "code",
   "execution_count": 20,
   "id": "a3e02eac",
   "metadata": {},
   "outputs": [],
   "source": [
    "dist_matrix = scipy.spatial.distance_matrix(X_test, X_train)"
   ]
  },
  {
   "cell_type": "code",
   "execution_count": 22,
   "id": "f6689ee5",
   "metadata": {},
   "outputs": [],
   "source": [
    "k = 5\n",
    "kNN_matrix = np.argpartition(dist_matrix, k)[:, :k]"
   ]
  },
  {
   "cell_type": "code",
   "execution_count": 24,
   "id": "cb4efd16",
   "metadata": {},
   "outputs": [
    {
     "data": {
      "text/plain": [
       "((30, 4), (30, 5))"
      ]
     },
     "execution_count": 24,
     "metadata": {},
     "output_type": "execute_result"
    }
   ],
   "source": [
    "X_test.shape, kNN_matrix.shape "
   ]
  },
  {
   "cell_type": "code",
   "execution_count": 38,
   "id": "d1d1a227",
   "metadata": {},
   "outputs": [
    {
     "name": "stdout",
     "output_type": "stream",
     "text": [
      "1.0\n"
     ]
    }
   ],
   "source": [
    "y_pred = []\n",
    "for i in range(len(X_test)):\n",
    "    neighbors = kNN_matrix[i]\n",
    "    neighbors_y = y_train[neighbors]\n",
    "    pred = Counter(neighbors_y).most_common(1)[0][0]\n",
    "    y_pred.append(pred)\n",
    "\n",
    "y_pred = np.array(y_pred)    \n",
    "accuracy = np.mean(y_pred == y_test)\n",
    "print(accuracy)"
   ]
  },
  {
   "cell_type": "code",
   "execution_count": null,
   "id": "edfa941f",
   "metadata": {},
   "outputs": [],
   "source": []
  }
 ],
 "metadata": {
  "kernelspec": {
   "display_name": "Python 3 (ipykernel)",
   "language": "python",
   "name": "python3"
  },
  "language_info": {
   "codemirror_mode": {
    "name": "ipython",
    "version": 3
   },
   "file_extension": ".py",
   "mimetype": "text/x-python",
   "name": "python",
   "nbconvert_exporter": "python",
   "pygments_lexer": "ipython3",
   "version": "3.10.9"
  }
 },
 "nbformat": 4,
 "nbformat_minor": 5
}
