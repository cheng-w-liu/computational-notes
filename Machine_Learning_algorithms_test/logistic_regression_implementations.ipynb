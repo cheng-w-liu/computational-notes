{
 "cells": [
  {
   "cell_type": "code",
   "execution_count": 4,
   "id": "f0ea89aa",
   "metadata": {},
   "outputs": [],
   "source": [
    "import numpy as np\n",
    "from sklearn import datasets \n",
    "from sklearn.preprocessing import StandardScaler "
   ]
  },
  {
   "cell_type": "code",
   "execution_count": 5,
   "id": "a444a5c4",
   "metadata": {},
   "outputs": [],
   "source": [
    "import torch\n",
    "import torch.nn as nn "
   ]
  },
  {
   "cell_type": "code",
   "execution_count": 6,
   "id": "247b0f86",
   "metadata": {},
   "outputs": [],
   "source": [
    "import matplotlib.pyplot as plt \n",
    "import matplotlib\n",
    "matplotlib.style.use('ggplot')\n",
    "%matplotlib inline "
   ]
  },
  {
   "cell_type": "code",
   "execution_count": 7,
   "id": "93694f6a",
   "metadata": {},
   "outputs": [],
   "source": [
    "data = datasets.load_breast_cancer()\n",
    "X = data.data\n",
    "y = data.target"
   ]
  },
  {
   "cell_type": "code",
   "execution_count": 8,
   "id": "53bdaf00",
   "metadata": {},
   "outputs": [],
   "source": [
    "x_scaler = StandardScaler()\n",
    "X = x_scaler.fit_transform(X)"
   ]
  },
  {
   "cell_type": "code",
   "execution_count": 9,
   "id": "290b8487",
   "metadata": {},
   "outputs": [
    {
     "data": {
      "text/plain": [
       "((569, 30), (569, 30), (569,))"
      ]
     },
     "execution_count": 9,
     "metadata": {},
     "output_type": "execute_result"
    }
   ],
   "source": [
    "data.data.shape, X.shape, data.target.shape"
   ]
  },
  {
   "cell_type": "code",
   "execution_count": 10,
   "id": "673c11d3",
   "metadata": {},
   "outputs": [],
   "source": [
    "d = X.shape[1]\n",
    "lr = 0.1\n",
    "n_iters = 100"
   ]
  },
  {
   "cell_type": "markdown",
   "id": "86a615c7",
   "metadata": {},
   "source": [
    "### Gradient Descent"
   ]
  },
  {
   "cell_type": "code",
   "execution_count": 11,
   "id": "65784e2e",
   "metadata": {},
   "outputs": [],
   "source": [
    "class GradientDescentLogisticRegression():\n",
    "    \n",
    "    def __init__(self, d, lr):\n",
    "        self.d = d\n",
    "        self.w = np.random.normal(size=(d,))\n",
    "        self.b = 0.\n",
    "        self.lr = lr\n",
    "    \n",
    "    def predict(self, X):\n",
    "        z = np.dot(X, self.w) + self.b\n",
    "        pred = 1./(1. + np.exp(-z))\n",
    "        return pred\n",
    "    \n",
    "    def calculate_loss(self, p_pred, y):\n",
    "        loss = -np.mean(y * np.log(p_pred) + (1. - y) * np.log(1. - p_pred))\n",
    "        return loss\n",
    "    \n",
    "    def train(self, X, y, n_iters=100):\n",
    "        history = []\n",
    "        N = len(X)\n",
    "        for i in range(n_iters):\n",
    "            pred = self.predict(X)\n",
    "            loss = self.calculate_loss(pred, y)\n",
    "            history.append(loss)\n",
    "            diff = pred - y\n",
    "            self.w -= self.lr * (1./N) * X.T.dot(diff)\n",
    "            self.b -= self.lr * (1./N) * np.sum(diff)\n",
    "        return history \n",
    "    "
   ]
  },
  {
   "cell_type": "code",
   "execution_count": 12,
   "id": "e680a2e2",
   "metadata": {},
   "outputs": [],
   "source": [
    "model1 = GradientDescentLogisticRegression(d, lr)\n",
    "history1 = model1.train(X, y, n_iters)"
   ]
  },
  {
   "cell_type": "code",
   "execution_count": 13,
   "id": "131f11ab",
   "metadata": {},
   "outputs": [
    {
     "data": {
      "text/plain": [
       "array([ 0.4342912 , -0.49097472, -1.24007234, -0.69388349, -0.36562921,\n",
       "        0.54527906, -0.77471524,  0.22023242,  0.01426876, -1.15359906,\n",
       "       -0.57359881, -0.13005501,  0.71006779, -1.2888035 ,  0.02055478,\n",
       "       -0.05197337, -0.11519898,  0.10362996, -0.23781962,  0.27609702,\n",
       "        0.117956  , -0.15483223, -0.97250373, -0.95777834, -0.81836307,\n",
       "       -0.49796118,  1.33447447, -0.69388536, -0.79051551, -0.88566119,\n",
       "        0.26020502])"
      ]
     },
     "execution_count": 13,
     "metadata": {},
     "output_type": "execute_result"
    }
   ],
   "source": [
    "np.concatenate((np.array([model1.b]) , model1.w))"
   ]
  },
  {
   "cell_type": "markdown",
   "id": "684f6987",
   "metadata": {},
   "source": [
    "### PyTorch "
   ]
  },
  {
   "cell_type": "code",
   "execution_count": 14,
   "id": "12a878f7",
   "metadata": {},
   "outputs": [],
   "source": [
    "class PyTorchLogisticRegression(nn.Module):\n",
    "    \n",
    "    def __init__(self, d):\n",
    "        super(PyTorchLogisticRegression, self).__init__()\n",
    "        self.d = d\n",
    "        self.linear = nn.Linear(d, 1)\n",
    "        \n",
    "    def forward(self, X):\n",
    "        return self.linear(X)\n",
    "    \n",
    "    def predict(self, X):\n",
    "        logit = self.forward(X)\n",
    "        return torch.sigmoid(logit)\n",
    "    "
   ]
  },
  {
   "cell_type": "code",
   "execution_count": 15,
   "id": "3c65c288",
   "metadata": {},
   "outputs": [],
   "source": [
    "x_ = torch.tensor(X, dtype=torch.float, requires_grad=False)\n",
    "y_ = torch.tensor(y, dtype=torch.float, requires_grad=False)"
   ]
  },
  {
   "cell_type": "code",
   "execution_count": 20,
   "id": "ac466a62",
   "metadata": {},
   "outputs": [],
   "source": [
    "model2 = PyTorchLogisticRegression(d)\n",
    "optimizer = torch.optim.SGD(model2.parameters(), lr=lr)\n",
    "loss_func = nn.BCEWithLogitsLoss(reduction='mean')\n",
    "history2 = []\n",
    "for i in range(n_iters):\n",
    "    logit = model2(x_).squeeze(1)\n",
    "    optimizer.zero_grad()\n",
    "    loss = loss_func(logit, y_)\n",
    "    loss.backward()\n",
    "    optimizer.step()\n",
    "    history2.append(loss.detach().item())\n",
    "    "
   ]
  },
  {
   "cell_type": "code",
   "execution_count": 21,
   "id": "d58b9079",
   "metadata": {},
   "outputs": [
    {
     "data": {
      "text/plain": [
       "array([ 3.1793875e-01, -4.0457198e-01, -2.3303087e-01, -2.4091440e-01,\n",
       "       -4.1290724e-01, -2.4850236e-01, -1.4343177e-01, -1.8860441e-01,\n",
       "       -3.3682653e-01, -1.1722225e-01,  2.9054281e-01, -3.2095653e-01,\n",
       "       -1.4167644e-04, -3.9335993e-01, -4.7835964e-01, -3.2149449e-02,\n",
       "       -3.8352810e-02,  7.0400976e-02, -1.6519552e-02,  1.2861629e-01,\n",
       "        2.3363686e-01, -4.8180899e-01, -5.2031434e-01, -4.5508045e-01,\n",
       "       -3.0322242e-01, -2.4242476e-01, -2.8101474e-01, -4.4343573e-01,\n",
       "       -3.1482196e-01, -3.5813856e-01, -4.9076181e-02], dtype=float32)"
      ]
     },
     "execution_count": 21,
     "metadata": {},
     "output_type": "execute_result"
    }
   ],
   "source": [
    "np.concatenate(\n",
    "    (model2.linear.bias.detach().numpy(), model2.linear.weight.detach().squeeze().numpy())\n",
    ")    \n"
   ]
  },
  {
   "cell_type": "markdown",
   "id": "1ae05c38",
   "metadata": {},
   "source": [
    "### Compare "
   ]
  },
  {
   "cell_type": "code",
   "execution_count": 22,
   "id": "a03070ce",
   "metadata": {},
   "outputs": [
    {
     "data": {
      "text/plain": [
       "<matplotlib.legend.Legend at 0x13e684fa0>"
      ]
     },
     "execution_count": 22,
     "metadata": {},
     "output_type": "execute_result"
    },
    {
     "data": {
      "image/png": "[encoded data removed]",
      "text/plain": [
       "<Figure size 700x500 with 1 Axes>"
      ]
     },
     "metadata": {},
     "output_type": "display_data"
    }
   ],
   "source": [
    "fontsize = 15\n",
    "fig, ax = plt.subplots(1, figsize=(7, 5))\n",
    "ax.plot(range(len(history1)), history1, label='gradient descent')\n",
    "ax.plot(range(len(history2)), history2, label='PyTorch')\n",
    "ax.set_xlabel('Step', fontsize=fontsize, labelpad=15)\n",
    "ax.set_ylabel('Negative Log Likelihood', fontsize=fontsize, labelpad=15)\n",
    "ax.legend(loc='best', fontsize=fontsize)"
   ]
  },
  {
   "cell_type": "code",
   "execution_count": null,
   "id": "81714f8d",
   "metadata": {},
   "outputs": [],
   "source": []
  }
 ],
 "metadata": {
  "kernelspec": {
   "display_name": "Python 3 (ipykernel)",
   "language": "python",
   "name": "python3"
  },
  "language_info": {
   "codemirror_mode": {
    "name": "ipython",
    "version": 3
   },
   "file_extension": ".py",
   "mimetype": "text/x-python",
   "name": "python",
   "nbconvert_exporter": "python",
   "pygments_lexer": "ipython3",
   "version": "3.10.9"
  }
 },
 "nbformat": 4,
 "nbformat_minor": 5
}
