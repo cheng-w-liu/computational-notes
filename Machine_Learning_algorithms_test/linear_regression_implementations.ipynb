{
 "cells": [
  {
   "cell_type": "code",
   "execution_count": 129,
   "id": "ad6b8a60",
   "metadata": {},
   "outputs": [],
   "source": [
    "import numpy as np\n",
    "from sklearn import datasets \n",
    "from sklearn.preprocessing import StandardScaler \n",
    "import torch "
   ]
  },
  {
   "cell_type": "code",
   "execution_count": 99,
   "id": "629c9d8e",
   "metadata": {},
   "outputs": [],
   "source": [
    "import torch\n",
    "import torch.nn as nn "
   ]
  },
  {
   "cell_type": "code",
   "execution_count": 89,
   "id": "9d6e50c7",
   "metadata": {},
   "outputs": [],
   "source": [
    "import matplotlib.pyplot as plt \n",
    "import matplotlib\n",
    "matplotlib.style.use('ggplot')\n",
    "%matplotlib inline "
   ]
  },
  {
   "cell_type": "code",
   "execution_count": 7,
   "id": "384a69bd",
   "metadata": {},
   "outputs": [],
   "source": [
    "diabetes = datasets.load_diabetes()"
   ]
  },
  {
   "cell_type": "code",
   "execution_count": 8,
   "id": "a5170b97",
   "metadata": {},
   "outputs": [
    {
     "data": {
      "text/plain": [
       "(numpy.ndarray, numpy.ndarray, (442, 10), (442,))"
      ]
     },
     "execution_count": 8,
     "metadata": {},
     "output_type": "execute_result"
    }
   ],
   "source": [
    "type(diabetes.data), type(diabetes.target), diabetes.data.shape, diabetes.target.shape"
   ]
  },
  {
   "cell_type": "code",
   "execution_count": 29,
   "id": "01eea055",
   "metadata": {},
   "outputs": [
    {
     "data": {
      "text/plain": [
       "(442, 10)"
      ]
     },
     "execution_count": 29,
     "metadata": {},
     "output_type": "execute_result"
    }
   ],
   "source": [
    "scaler = StandardScaler()\n",
    "scaler.fit(diabetes.data)\n",
    "X = scaler.transform(diabetes.data)\n",
    "X.shape"
   ]
  },
  {
   "cell_type": "code",
   "execution_count": 32,
   "id": "300e4486",
   "metadata": {},
   "outputs": [],
   "source": [
    "y = diabetes.target"
   ]
  },
  {
   "cell_type": "code",
   "execution_count": 30,
   "id": "d41984d0",
   "metadata": {},
   "outputs": [
    {
     "data": {
      "text/plain": [
       "(442, 11)"
      ]
     },
     "execution_count": 30,
     "metadata": {},
     "output_type": "execute_result"
    }
   ],
   "source": [
    "n = len(X)\n",
    "bias = np.ones(n).reshape((n, -1))\n",
    "X1 = np.concatenate([bias, X], axis=1)\n",
    "X1.shape  "
   ]
  },
  {
   "cell_type": "markdown",
   "id": "07d3b014",
   "metadata": {},
   "source": [
    "### Closed Form "
   ]
  },
  {
   "cell_type": "code",
   "execution_count": 53,
   "id": "993e02df",
   "metadata": {},
   "outputs": [],
   "source": [
    "class ClosedFormLinearRegression():\n",
    "    \n",
    "    def __init__(self, d1, reg=1e-5):\n",
    "        \"\"\"\n",
    "        d1: num. of features + 1, where the extra 1 is for the bias term\n",
    "        reg: regularization\n",
    "        \"\"\"\n",
    "        self.d1 = d1\n",
    "        self.reg = reg\n",
    "        self.w = None\n",
    "        self.called_fit = False\n",
    "        \n",
    "    def fit(self, X, y):\n",
    "        d1 = self.d1            \n",
    "        proj = np.linalg.inv(np.dot(X.T, X) + self.reg * np.eye(d1))\n",
    "        Xy = np.dot(X.T, y)\n",
    "        self.w = np.dot(proj, Xy)\n",
    "        self.called_fit = True\n",
    "    \n",
    "    def predict(self, X):\n",
    "        assert self.called_fit\n",
    "        y_pred = X.dot(self.w)\n",
    "        return y_pred\n",
    "    \n",
    "    def compute_loss(self, X, y):\n",
    "        y_pred = self.predict(X)\n",
    "        return np.mean((y_pred - y)**2)\n",
    "        "
   ]
  },
  {
   "cell_type": "code",
   "execution_count": 54,
   "id": "fecc0794",
   "metadata": {},
   "outputs": [],
   "source": [
    "model1 = ClosedFormLinearRegression(X1.shape[1])"
   ]
  },
  {
   "cell_type": "code",
   "execution_count": 55,
   "id": "2d25fa80",
   "metadata": {},
   "outputs": [],
   "source": [
    "model1.fit(X1, y)"
   ]
  },
  {
   "cell_type": "code",
   "execution_count": 96,
   "id": "024df830",
   "metadata": {},
   "outputs": [
    {
     "data": {
      "text/plain": [
       "array([152.13348072,  -0.47612024, -11.40686609,  24.72654954,\n",
       "        15.42940348, -37.67985665,  22.67608662,   4.80609574,\n",
       "         8.42202781,  35.73440939,   3.21667429])"
      ]
     },
     "execution_count": 96,
     "metadata": {},
     "output_type": "execute_result"
    }
   ],
   "source": [
    "model1.w"
   ]
  },
  {
   "cell_type": "code",
   "execution_count": 57,
   "id": "8b55707d",
   "metadata": {},
   "outputs": [
    {
     "name": "stdout",
     "output_type": "stream",
     "text": [
      "2859.6963\n"
     ]
    }
   ],
   "source": [
    "loss = model1.compute_loss(X1, y)\n",
    "print(f'{loss:.4f}')"
   ]
  },
  {
   "cell_type": "markdown",
   "id": "278106e4",
   "metadata": {},
   "source": [
    "### Gradient descent"
   ]
  },
  {
   "cell_type": "code",
   "execution_count": 101,
   "id": "d78cb53a",
   "metadata": {},
   "outputs": [],
   "source": [
    "class GradientDescentLinearRegression():\n",
    "    def __init__(self, d, reg=1e-5, lr=1e-1):\n",
    "        self.d = d\n",
    "        self.w = np.random.random(d)\n",
    "        self.b = 0\n",
    "        self.reg = reg\n",
    "        self.lr = lr\n",
    "                \n",
    "    def predict(self, X):\n",
    "        y_pred = X.dot(self.w) + self.b\n",
    "        return y_pred\n",
    "    \n",
    "    def compute_loss(self, X, y):\n",
    "        y_pred = self.predict(X)\n",
    "        loss = np.mean((y_pred - y) ** 2) + self.reg * (np.sum(self.w ** 2) + self.b ** 2)\n",
    "        loss *= 0.5\n",
    "        return loss    \n",
    "    \n",
    "    def fit(self, X, y, n_iters):\n",
    "        history = []\n",
    "        m = len(X)\n",
    "        for i in range(n_iters):\n",
    "            y_pred = self.predict(X)\n",
    "            diff = y_pred - y\n",
    "            dw = (1./m) * (X.T.dot(diff)) + self.reg * self.w\n",
    "            db = np.sum((1./m) * diff) + self.reg * self.b \n",
    "            self.w -= self.lr * dw\n",
    "            self.b -= self.lr * db \n",
    "            loss = self.compute_loss(X, y)\n",
    "            history.append(loss)\n",
    "        return history \n"
   ]
  },
  {
   "cell_type": "code",
   "execution_count": 102,
   "id": "d82f2f0a",
   "metadata": {},
   "outputs": [],
   "source": [
    "d = X.shape[1]\n",
    "model2 = GradientDescentLinearRegression(d)\n",
    "history2 = model2.fit(X, y, n_iters=100)"
   ]
  },
  {
   "cell_type": "code",
   "execution_count": 103,
   "id": "795d5ae2",
   "metadata": {},
   "outputs": [
    {
     "data": {
      "text/plain": [
       "array([152.12792245,  -0.31330834, -11.25042383,  25.16840258,\n",
       "        15.32119011,  -4.58315844,  -4.15125427,  -9.33380706,\n",
       "         5.321083  ,  23.06627082,   3.34807294])"
      ]
     },
     "execution_count": 103,
     "metadata": {},
     "output_type": "execute_result"
    }
   ],
   "source": [
    "np.concatenate((np.array([model2.b]) , model2.w))"
   ]
  },
  {
   "cell_type": "code",
   "execution_count": 127,
   "id": "548dafea",
   "metadata": {},
   "outputs": [],
   "source": [
    "#fig, ax = plt.subplots(1, figsize=(7, 5))\n",
    "#ax.plot(range(len(history2)), history2)"
   ]
  },
  {
   "cell_type": "code",
   "execution_count": null,
   "id": "4019ed4c",
   "metadata": {},
   "outputs": [],
   "source": []
  },
  {
   "cell_type": "markdown",
   "id": "946e365e",
   "metadata": {},
   "source": [
    "### Use PyTorch "
   ]
  },
  {
   "cell_type": "code",
   "execution_count": 106,
   "id": "70004479",
   "metadata": {},
   "outputs": [],
   "source": [
    "class PyTorchLinearRegression(nn.Module):\n",
    "    def __init__(self, d, loss_func):\n",
    "        super(PyTorchLinearRegression, self).__init__()\n",
    "        self.d = d \n",
    "        self.loss_func = loss_func\n",
    "        self.linear = nn.Linear(d, 1)\n",
    "        \n",
    "    def predict(self, X):\n",
    "        y_pred = self.linear(X).squeeze(1)\n",
    "        \n",
    "    def compute_loss(self, y_pred, y):\n",
    "        loss = self.loss_func(y_pred, y)\n",
    "        return loss\n",
    "    \n",
    "    def forward(self, X):\n",
    "        y_pred = self.linear(X)\n",
    "        return y_pred\n",
    "        "
   ]
  },
  {
   "cell_type": "code",
   "execution_count": 107,
   "id": "94a20360",
   "metadata": {},
   "outputs": [],
   "source": [
    "n_iters = 100\n",
    "reg = 1e-5\n",
    "lr = 1e-1\n",
    "loss_func = nn.MSELoss(reduction='mean')\n",
    "model3 = PyTorchLinearRegression(X.shape[1], loss_func)\n",
    "optimizer = torch.optim.SGD(model3.parameters(), lr=lr, weight_decay=reg)\n",
    "X_ = torch.tensor(X, dtype=torch.float)\n",
    "y_ = torch.tensor(y, dtype=torch.float)"
   ]
  },
  {
   "cell_type": "code",
   "execution_count": 108,
   "id": "6a13ff50",
   "metadata": {},
   "outputs": [],
   "source": [
    "history3 = []\n",
    "for i in range(n_iters):\n",
    "    y_pred = model3(X_).squeeze(1)\n",
    "    loss = model3.compute_loss(y_pred, y_)\n",
    "    optimizer.zero_grad()    \n",
    "    loss.backward()\n",
    "    optimizer.step()\n",
    "    history3.append(loss.detach().item())\n",
    "    "
   ]
  },
  {
   "cell_type": "code",
   "execution_count": 120,
   "id": "56e1203c",
   "metadata": {},
   "outputs": [
    {
     "data": {
      "text/plain": [
       "array([152.13269  ,  -0.3303334, -11.2502985,  25.108257 ,  15.307167 ,\n",
       "        -7.075539 ,  -1.8490058,  -8.597703 ,   4.987753 ,  24.204716 ,\n",
       "         3.3201215], dtype=float32)"
      ]
     },
     "execution_count": 120,
     "metadata": {},
     "output_type": "execute_result"
    }
   ],
   "source": [
    "np.concatenate(\n",
    "    (model3.linear.bias.detach().numpy(), model3.linear.weight.detach().squeeze().numpy())\n",
    ")    \n"
   ]
  },
  {
   "cell_type": "code",
   "execution_count": 128,
   "id": "225d3971",
   "metadata": {},
   "outputs": [],
   "source": [
    "#fig, ax = plt.subplots(1, figsize=(7, 5))\n",
    "#ax.plot(range(len(history3)), history3)"
   ]
  },
  {
   "cell_type": "markdown",
   "id": "b2667888",
   "metadata": {},
   "source": [
    "### Compare "
   ]
  },
  {
   "cell_type": "code",
   "execution_count": 126,
   "id": "70db3e8e",
   "metadata": {},
   "outputs": [
    {
     "data": {
      "text/plain": [
       "<matplotlib.legend.Legend at 0x13dfff7f0>"
      ]
     },
     "execution_count": 126,
     "metadata": {},
     "output_type": "execute_result"
    },
    {
     "data": {
      "image/png": "[encoded data removed]",
      "text/plain": [
       "<Figure size 700x500 with 1 Axes>"
      ]
     },
     "metadata": {},
     "output_type": "display_data"
    }
   ],
   "source": [
    "fontsize = 15\n",
    "fig, ax = plt.subplots(1, figsize=(7, 5))\n",
    "ax.plot(range(len(history2)), history2, label='gradient descent')\n",
    "ax.plot(range(len(history3)), history3, label='PyTorch')\n",
    "ax.set_xlabel('Step', fontsize=fontsize, labelpad=15)\n",
    "ax.set_ylabel('MSE Loss', fontsize=fontsize, labelpad=15)\n",
    "ax.legend(loc='best', fontsize=fontsize)"
   ]
  },
  {
   "cell_type": "code",
   "execution_count": null,
   "id": "30e4e417",
   "metadata": {},
   "outputs": [],
   "source": []
  }
 ],
 "metadata": {
  "kernelspec": {
   "display_name": "Python 3 (ipykernel)",
   "language": "python",
   "name": "python3"
  },
  "language_info": {
   "codemirror_mode": {
    "name": "ipython",
    "version": 3
   },
   "file_extension": ".py",
   "mimetype": "text/x-python",
   "name": "python",
   "nbconvert_exporter": "python",
   "pygments_lexer": "ipython3",
   "version": "3.10.9"
  }
 },
 "nbformat": 4,
 "nbformat_minor": 5
}
